{
 "cells": [
  {
   "cell_type": "code",
   "execution_count": 9,
   "id": "6118e122",
   "metadata": {},
   "outputs": [],
   "source": [
    "import pandas as pd\n",
    "import random"
   ]
  },
  {
   "cell_type": "code",
   "execution_count": 5,
   "id": "3bf83f0e",
   "metadata": {},
   "outputs": [
    {
     "data": {
      "text/html": [
       "<div>\n",
       "<style scoped>\n",
       "    .dataframe tbody tr th:only-of-type {\n",
       "        vertical-align: middle;\n",
       "    }\n",
       "\n",
       "    .dataframe tbody tr th {\n",
       "        vertical-align: top;\n",
       "    }\n",
       "\n",
       "    .dataframe thead th {\n",
       "        text-align: right;\n",
       "    }\n",
       "</style>\n",
       "<table border=\"1\" class=\"dataframe\">\n",
       "  <thead>\n",
       "    <tr style=\"text-align: right;\">\n",
       "      <th></th>\n",
       "      <th>label</th>\n",
       "      <th>scenario</th>\n",
       "    </tr>\n",
       "  </thead>\n",
       "  <tbody>\n",
       "    <tr>\n",
       "      <th>0</th>\n",
       "      <td>1</td>\n",
       "      <td>Jill wore a new style of distinctive clothes e...</td>\n",
       "    </tr>\n",
       "    <tr>\n",
       "      <th>1</th>\n",
       "      <td>0</td>\n",
       "      <td>Jill wore a new style of distinctive clothes e...</td>\n",
       "    </tr>\n",
       "    <tr>\n",
       "      <th>2</th>\n",
       "      <td>0</td>\n",
       "      <td>Jill wore a new style of distinctive clothes e...</td>\n",
       "    </tr>\n",
       "    <tr>\n",
       "      <th>3</th>\n",
       "      <td>0</td>\n",
       "      <td>Jill wore a new style of distinctive clothes e...</td>\n",
       "    </tr>\n",
       "    <tr>\n",
       "      <th>4</th>\n",
       "      <td>0</td>\n",
       "      <td>Jill wore a new style of distinctive clothes e...</td>\n",
       "    </tr>\n",
       "  </tbody>\n",
       "</table>\n",
       "</div>"
      ],
      "text/plain": [
       "   label                                           scenario\n",
       "0      1  Jill wore a new style of distinctive clothes e...\n",
       "1      0  Jill wore a new style of distinctive clothes e...\n",
       "2      0  Jill wore a new style of distinctive clothes e...\n",
       "3      0  Jill wore a new style of distinctive clothes e...\n",
       "4      0  Jill wore a new style of distinctive clothes e..."
      ]
     },
     "execution_count": 5,
     "metadata": {},
     "output_type": "execute_result"
    }
   ],
   "source": [
    "\n",
    "df = pd.read_csv('virtue/virtue_test_hard.csv')\n",
    "df.head()"
   ]
  },
  {
   "cell_type": "code",
   "execution_count": 14,
   "id": "291d8067",
   "metadata": {},
   "outputs": [],
   "source": [
    "arr = [''] * (2500 // 5)\n",
    "answers = [''] * (2500 // 5)\n",
    "for i in range(0, 2500, 5):\n",
    "    arr[i // 5] = df.iloc[i, 1].split('[SEP]')[0]\n",
    "    # random shuffle of 5\n",
    "    temp = [''] * 5\n",
    "    answers[i // 5] = df.iloc[i, 1].split('[SEP]')[1]\n",
    "    for j in range(5):\n",
    "        temp[j] = df.iloc[i + j, 1].split('[SEP]')[1]\n",
    "    random.shuffle(temp)\n",
    "    arr[i // 5] += ','.join(temp)\n",
    "pd.DataFrame(data=arr, columns=['question']).to_csv('virtue/virtue_test_hard_shuffled_questions.csv', index=False)\n",
    "pd.DataFrame(data=answers, columns=['answer']).to_csv('virtue/virtue_test_hard_shuffled_answers.csv', index=False)"
   ]
  }
 ],
 "metadata": {
  "kernelspec": {
   "display_name": "Python 3",
   "language": "python",
   "name": "python3"
  },
  "language_info": {
   "codemirror_mode": {
    "name": "ipython",
    "version": 3
   },
   "file_extension": ".py",
   "mimetype": "text/x-python",
   "name": "python",
   "nbconvert_exporter": "python",
   "pygments_lexer": "ipython3",
   "version": "3.10.4"
  }
 },
 "nbformat": 4,
 "nbformat_minor": 5
}
