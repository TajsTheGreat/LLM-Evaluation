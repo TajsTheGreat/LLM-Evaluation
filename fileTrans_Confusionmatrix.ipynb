{
 "cells": [
  {
   "cell_type": "code",
   "execution_count": null,
   "id": "6969be42",
   "metadata": {},
   "outputs": [],
   "source": [
    "import pandas as pd\n",
    "import random"
   ]
  },
  {
   "cell_type": "code",
   "execution_count": 16,
   "id": "9f844fbd",
   "metadata": {},
   "outputs": [],
   "source": [
    "df = pd.read_csv('virtue/virtue_final_test_chatgpt.csv')\n",
    "\n",
    "mylist = [''] * len(df)\n",
    "for i in range(len(df)):\n",
    "    # Remove the last two spaces from each string in the column\n",
    "    mylist[i] = df.iloc[i, 0].strip()\n",
    "\n",
    "pd.DataFrame(mylist, columns=['text']).to_csv('virtue/virtue_final_test_chatgpt_cleaned.csv', index=False)"
   ]
  },
  {
   "cell_type": "code",
   "execution_count": 105,
   "id": "645e53d5",
   "metadata": {},
   "outputs": [],
   "source": [
    "df = pd.read_csv('utilitarianism/util_test_hard.csv', header=None)\n",
    "\n",
    "df.columns = ['0', '1']\n",
    "\n",
    "new_df = df.iloc[:, :].copy()\n",
    "arr = []\n",
    "for i in range(len(new_df)):\n",
    "    order = random.randint(0, 1)\n",
    "    arr.append(order)\n",
    "    if order == 1:\n",
    "        temp = new_df.iloc[i, 0]\n",
    "        new_df.iloc[i, 0] = new_df.iloc[i, 1]\n",
    "        new_df.iloc[i, 1] = temp\n",
    "\n",
    "new_df.to_csv('utilitarianism/util_test_hard_questions.csv', index=False)\n",
    "df = pd.DataFrame(arr)\n",
    "df.columns = ['label']\n",
    "df.to_csv('utilitarianism/util_test_hard_answers.csv', index=False)"
   ]
  },
  {
   "cell_type": "code",
   "execution_count": 196,
   "id": "7711838b",
   "metadata": {},
   "outputs": [
    {
     "name": "stdout",
     "output_type": "stream",
     "text": [
      "Accuracy: 85.40%\n"
     ]
    }
   ],
   "source": [
    "respons = pd.read_csv('virtue/gemini_500.csv')\n",
    "answer = pd.read_csv('virtue/virtue_test_hard_shuffled_answers.csv')\n",
    "\n",
    "counter = 0\n",
    "for i in range(len(respons)):\n",
    "    if str(respons.iloc[i, 0].split(' ')[1]) == str(answer.iloc[i, 0]):\n",
    "        counter += 1\n",
    "print(f'Accuracy: {counter / len(respons) * 100:.2f}%')"
   ]
  },
  {
   "cell_type": "code",
   "execution_count": null,
   "id": "00053d63",
   "metadata": {},
   "outputs": [
    {
     "name": "stdout",
     "output_type": "stream",
     "text": [
      "TP: 145, TN: 130, FP: 108, FN: 116\n"
     ]
    }
   ],
   "source": [
    "pos = 1\n",
    "neg = 0\n",
    "\n",
    "TP = 0\n",
    "TN = 0\n",
    "FP = 0\n",
    "FN = 0\n",
    "\n",
    "for i in range(500):\n",
    "    if str(respons.iloc[i, 0][0]).strip() == str(answer.iloc[i, 0]).strip():\n",
    "        if str(respons.iloc[i, 0][0]) == str(pos):\n",
    "            TP += 1\n",
    "        else:\n",
    "            TN += 1\n",
    "    else:\n",
    "        if str(respons.iloc[i, 0][0]) == str(pos):\n",
    "            FP += 1\n",
    "        else:\n",
    "            FN += 1\n",
    "\n",
    "print(f'TP: {TP}, TN: {TN}, FP: {FP}, FN: {FN}')"
   ]
  }
 ],
 "metadata": {
  "kernelspec": {
   "display_name": "Python 3",
   "language": "python",
   "name": "python3"
  },
  "language_info": {
   "codemirror_mode": {
    "name": "ipython",
    "version": 3
   },
   "file_extension": ".py",
   "mimetype": "text/x-python",
   "name": "python",
   "nbconvert_exporter": "python",
   "pygments_lexer": "ipython3",
   "version": "3.10.4"
  }
 },
 "nbformat": 4,
 "nbformat_minor": 5
}
